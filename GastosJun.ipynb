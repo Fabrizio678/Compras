{
  "nbformat": 4,
  "nbformat_minor": 0,
  "metadata": {
    "colab": {
      "provenance": []
    },
    "kernelspec": {
      "name": "python3",
      "display_name": "Python 3"
    },
    "language_info": {
      "name": "python"
    }
  },
  "cells": [
    {
      "cell_type": "markdown",
      "source": [
        "Importando librerias"
      ],
      "metadata": {
        "id": "7pNi_aTRoiT4"
      }
    },
    {
      "cell_type": "code",
      "source": [
        "import numpy as np\n",
        "import pandas as pd\n",
        "from datetime import datetime\n",
        "import matplotlib.pyplot as plt\n",
        "import matplotlib.cm as cm"
      ],
      "metadata": {
        "id": "URsZd9xh_Luh"
      },
      "execution_count": 1,
      "outputs": []
    },
    {
      "cell_type": "markdown",
      "source": [
        "Cargando la Data\n"
      ],
      "metadata": {
        "id": "94sZWbA8opom"
      }
    },
    {
      "cell_type": "code",
      "source": [
        " data = pd.read_excel('listado_compras.xlsx', header=2 )"
      ],
      "metadata": {
        "id": "r-uAKGms_giv"
      },
      "execution_count": 2,
      "outputs": []
    },
    {
      "cell_type": "markdown",
      "source": [
        "- Convirtiendo la Columna Fecha en valores de Tiempo y Hora\n",
        "-  errors='coerce' los valores que no se puedan convertir ponelo como NA\n",
        "\n"
      ],
      "metadata": {
        "id": "F8f_PsEDo98m"
      }
    },
    {
      "cell_type": "code",
      "source": [
        "data['FECHA'] = pd.to_datetime(data['FECHA'], errors='coerce')"
      ],
      "metadata": {
        "id": "4ylfNNk-ONqr"
      },
      "execution_count": 3,
      "outputs": []
    },
    {
      "cell_type": "markdown",
      "source": [
        "Conocer si la Columna Fecha sus atributos son valores temporales"
      ],
      "metadata": {
        "id": "XY3jY9ZZp0AE"
      }
    },
    {
      "cell_type": "code",
      "source": [
        "print(data['FECHA'].dtype)"
      ],
      "metadata": {
        "colab": {
          "base_uri": "https://localhost:8080/"
        },
        "id": "cFPBiwBZp447",
        "outputId": "dfa70615-e747-45c3-95a7-3692d01ae69b"
      },
      "execution_count": 4,
      "outputs": [
        {
          "output_type": "stream",
          "name": "stdout",
          "text": [
            "datetime64[ns]\n"
          ]
        }
      ]
    },
    {
      "cell_type": "markdown",
      "source": [
        "Estableciendo fechas Inicio y Fin"
      ],
      "metadata": {
        "id": "PlDgLHwmpuZM"
      }
    },
    {
      "cell_type": "code",
      "source": [
        "fecha_inicio = datetime.strptime('2025-06-01', '%Y-%m-%d')\n",
        "fecha_fin = datetime.strptime('2025-06-30', '%Y-%m-%d')"
      ],
      "metadata": {
        "id": "nbHODSyjCCOL"
      },
      "execution_count": 5,
      "outputs": []
    },
    {
      "cell_type": "markdown",
      "source": [
        "Establecer el rango de fechas que deseo utilizando la funcion \"between\""
      ],
      "metadata": {
        "id": "EyIwsvNiqfWj"
      }
    },
    {
      "cell_type": "code",
      "source": [
        "data = data[data['FECHA'].between(fecha_inicio, fecha_fin)]"
      ],
      "metadata": {
        "id": "hXlWkJ--Px82"
      },
      "execution_count": 6,
      "outputs": []
    },
    {
      "cell_type": "markdown",
      "source": [
        "Seleccionando la Data Relevante"
      ],
      "metadata": {
        "id": "qSbgsVkOqlUc"
      }
    },
    {
      "cell_type": "code",
      "source": [
        "df = data[['FECHA', 'TOTAL', 'GLOSA']]"
      ],
      "metadata": {
        "id": "WJh-nMvfbJyw"
      },
      "execution_count": 7,
      "outputs": []
    },
    {
      "cell_type": "markdown",
      "source": [
        "Conocer los valores de \"Glosa\""
      ],
      "metadata": {
        "id": "XHCtQcucqrFy"
      }
    },
    {
      "cell_type": "code",
      "source": [
        "data['GLOSA'].unique()"
      ],
      "metadata": {
        "colab": {
          "base_uri": "https://localhost:8080/"
        },
        "id": "TxbEenKJc3R3",
        "outputId": "ebfddf56-70d6-4640-fca2-0a7c01f7d593"
      },
      "execution_count": 8,
      "outputs": [
        {
          "output_type": "execute_result",
          "data": {
            "text/plain": [
              "array(['ENVIO', 'HONORARIOS', 'FERRETERIA', 'PEAJE', 'COMBUSTIBLE',\n",
              "       'ESTACIONAMIENTO', 'REFRIGERANTE', 'ALIMENTACION', 'SCTR',\n",
              "       'GASEOSA', 'LIMPIEZA', 'AUTOPARTES', 'ILUMINACION', 'OFICINA',\n",
              "       'FINANZAS', 'PLAFON', 'LLANTERIA', 'ZAPATO', 'AGUA', 'LLANTA',\n",
              "       'SUSCRIPCION', 'PINTURA', 'SEGURO', 'EXAMEN', 'PAPELERIA',\n",
              "       'FACTURACION', 'VEHICULO', 'BATERÃ\\x8dA', 'INTERNET'], dtype=object)"
            ]
          },
          "metadata": {},
          "execution_count": 8
        }
      ]
    },
    {
      "cell_type": "markdown",
      "source": [
        "Corrigiendo el valor 'BATERÃ\\x8dA' por BATERIA"
      ],
      "metadata": {
        "id": "QbGAzsbbq2OK"
      }
    },
    {
      "cell_type": "code",
      "source": [
        "df = df.copy()\n",
        "df['GLOSA'] = df['GLOSA'].replace('BATERÃ\\x8dA', 'BATERIA')"
      ],
      "metadata": {
        "collapsed": true,
        "id": "dV7wk_1vc-mc"
      },
      "execution_count": 9,
      "outputs": []
    },
    {
      "cell_type": "markdown",
      "source": [
        "&nbsp;  "
      ],
      "metadata": {
        "id": "hIqyALqlexuR"
      }
    },
    {
      "cell_type": "markdown",
      "source": [
        "# Segmentando la data\n",
        "🚗 Transporte/Vehículo\n",
        "\n",
        "COMBUSTIBLE,\n",
        "PEAJE,\n",
        "LLANTA,\n",
        "LLANTERIA,\n",
        "VEHICULO,\n",
        "BATERIA,\n",
        "AUTOPARTES,\n",
        "ILUMINACION,\n",
        "ESTACIONAMIENTO,\n",
        "REFRIGERANTE.\n",
        "\n",
        "🏢 Oficina\n",
        "\n",
        "OFICINA,\n",
        "PAPELERIA.\n",
        "\n",
        "👷‍♂️ Seguridad / Personal\n",
        "\n",
        "SCTR,\n",
        "SEGURO,\n",
        "EXAMEN,\n",
        "ZAPATO.\n",
        "\n",
        "🧰 Mantenimiento/Ferretería\n",
        "\n",
        "FERRETERIA,\n",
        "LIMPIEZA,\n",
        "PINTURA,\n",
        "PLAFON.\n",
        "\n",
        "🍽️ Alimentación/Bebidas\n",
        "\n",
        "ALIMENTACION,\n",
        "GASEOSA,\n",
        "AGUA.\n",
        "\n",
        "💼 Servicios/Profesionales\n",
        "\n",
        "HONORARIOS,\n",
        "ENVIO,\n",
        "FACTURACION,\n",
        "SUSCRIPCION,\n",
        "INTERNET,\n",
        "FINANZAS."
      ],
      "metadata": {
        "id": "QXePSZkcf8kQ"
      }
    },
    {
      "cell_type": "markdown",
      "source": [
        "Renombrando para la manipulacion de datos"
      ],
      "metadata": {
        "id": "Zyd1p7o0F-kF"
      }
    },
    {
      "cell_type": "code",
      "source": [
        "df['GLOSA'] = df['GLOSA'].replace(['COMBUSTIBLE','PEAJE','LLANTA','LLANTERIA','VEHICULO','BATERIA','AUTOPARTES','ILUMINACION','ESTACIONAMIENTO','REFRIGERANTE'],'TRANSPORTE/VEHICULO')\n",
        "df['GLOSA'] = df['GLOSA'].replace(['OFICINA','PAPELERIA'],'OFICINA')\n",
        "df['GLOSA'] = df['GLOSA'].replace(['SCTR','SEGURO','EXAMEN','ZAPATO'],'SEGURIDAD/PERSONAL')\n",
        "df['GLOSA'] = df['GLOSA'].replace(['FERRETERIA','LIMPIEZA','PINTURA','PLAFON'],'MANTENIMIENTO/FERRETERIA')\n",
        "df['GLOSA'] = df['GLOSA'].replace(['ALIMENTACION','GASEOSA','AGUA'],'ALIMENTACION/BEBIDAS')\n",
        "df['GLOSA'] = df['GLOSA'].replace(['HONORARIOS','ENVIO','FACTURACION','SUSCRIPCION','INTERNET','FINANZAS'],'SERVICIOS/PROFESIONALES')\n"
      ],
      "metadata": {
        "collapsed": true,
        "id": "_K8xM56dkVh_"
      },
      "execution_count": 10,
      "outputs": []
    },
    {
      "cell_type": "markdown",
      "source": [
        "Agrupando Glosa Y Total"
      ],
      "metadata": {
        "id": "Y7U6NSDHGP-V"
      }
    },
    {
      "cell_type": "code",
      "source": [
        "data1 = df.groupby('GLOSA')['TOTAL'].sum().reset_index()"
      ],
      "metadata": {
        "id": "3C5TLbq1rraA"
      },
      "execution_count": 11,
      "outputs": []
    },
    {
      "cell_type": "markdown",
      "source": [
        "Paleta de Colores Viridis"
      ],
      "metadata": {
        "id": "jfB4Lz9bGrBV"
      }
    },
    {
      "cell_type": "code",
      "source": [
        "colores = cm.viridis(np.linspace(0, 1, len(data1)))"
      ],
      "metadata": {
        "id": "vz0HQFn5_UOV"
      },
      "execution_count": 12,
      "outputs": []
    },
    {
      "cell_type": "markdown",
      "source": [
        "Visualizacion de Datos"
      ],
      "metadata": {
        "id": "5luss6swGwNj"
      }
    },
    {
      "cell_type": "code",
      "source": [
        "bars = plt.bar(data1['GLOSA'], data1['TOTAL'], color=colores)\n",
        "\n",
        "for i, bar in enumerate(bars):\n",
        "    height = bar.get_height()\n",
        "    plt.text(bar.get_x() + bar.get_width() / 2,\n",
        "             height,\n",
        "             f'{height:.2f}',\n",
        "             ha='center', va='bottom', fontsize=8)\n",
        "    plt.title(\"Gastos Totales en Nuevos Soles (S/.) durante el Mes de Junio del 2025\")\n",
        "\n",
        "from matplotlib.patches import Patch\n",
        "\n",
        "plt.xticks(rotation=90)\n",
        "plt.show()"
      ],
      "metadata": {
        "colab": {
          "base_uri": "https://localhost:8080/",
          "height": 646
        },
        "id": "6szdHjIsuGwc",
        "outputId": "3cd0cb7e-33ee-413d-c5d5-9287e06ef6c8"
      },
      "execution_count": 13,
      "outputs": [
        {
          "output_type": "display_data",
          "data": {
            "text/plain": [
              "<Figure size 640x480 with 1 Axes>"
            ],
            "image/png": "[encoded data removed]"
          },
          "metadata": {}
        }
      ]
    }
  ]
}